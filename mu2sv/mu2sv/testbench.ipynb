{
 "cells": [
  {
   "cell_type": "code",
   "execution_count": 1,
   "metadata": {},
   "outputs": [],
   "source": [
    "import ply.lex as lex\n",
    "import mulex\n",
    "\n",
    "with open(f'../examples/dpnew.m', 'r') as input:\n",
    "    with open('../examples/dpnew.tokens', 'w') as tokens_out:\n",
    "        mulex.lexer.input(input.read())\n",
    "        t = lex.LexToken()\n",
    "        t.type = ''\n",
    "        lineno = 1\n",
    "        while t:\n",
    "            while mulex.lexer.lineno == lineno:\n",
    "                tokens_out.write(f'{t.type} ')\n",
    "                t = mulex.lexer.token()\n",
    "            lineno += 1\n",
    "            tokens_out.write('\\n')"
   ]
  },
  {
   "cell_type": "code",
   "execution_count": 1,
   "metadata": {},
   "outputs": [],
   "source": [
    "import muparse\n",
    "\n",
    "name = 'mrn'\n",
    "with open(f'{name}.m', 'r') as input:\n",
    "    ast = muparse.parser.parse(input.read(), debug=0)\n",
    "    with open(f'{name}.ast.py', 'w') as output:\n",
    "        output.write('from muast import *\\n\\np = ')\n",
    "        output.write(str(ast))\n",
    "        output.write('\\n')"
   ]
  }
 ],
 "metadata": {
  "kernelspec": {
   "display_name": "Python 3.10.8 64-bit (microsoft store)",
   "language": "python",
   "name": "python3"
  },
  "language_info": {
   "codemirror_mode": {
    "name": "ipython",
    "version": 3
   },
   "file_extension": ".py",
   "mimetype": "text/x-python",
   "name": "python",
   "nbconvert_exporter": "python",
   "pygments_lexer": "ipython3",
   "version": "3.10.9 (tags/v3.10.9:1dd9be6, Dec  6 2022, 20:01:21) [MSC v.1934 64 bit (AMD64)]"
  },
  "orig_nbformat": 4,
  "vscode": {
   "interpreter": {
    "hash": "627b4aecb2cd6db73c7bb2c40a1cb023fb2d4519149ac04fa368db22b3aaa8ff"
   }
  }
 },
 "nbformat": 4,
 "nbformat_minor": 2
}
